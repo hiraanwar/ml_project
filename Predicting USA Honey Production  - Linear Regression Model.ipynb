{
 "cells": [
  {
   "cell_type": "markdown",
   "id": "f17faad2",
   "metadata": {},
   "source": [
    "## Predict Honey Production using Linear Regression\n",
    "\n",
    "Here we will investigate the decline in honey bee population and how the trends of the past predict the future for the production of honey.\n",
    "\n",
    "This project is part of the codeacademy data science curriculum.\n"
   ]
  },
  {
   "cell_type": "code",
   "execution_count": 65,
   "id": "78c83fe5",
   "metadata": {},
   "outputs": [],
   "source": [
    "import pandas as pd\n",
    "import matplotlib.pyplot as plt\n",
    "import numpy as np\n",
    "from sklearn.linear_model import LinearRegression"
   ]
  },
  {
   "cell_type": "code",
   "execution_count": 66,
   "id": "f4ec7e2d",
   "metadata": {},
   "outputs": [],
   "source": [
    "df = pd.read_csv(r\"/Users/hiraanwar/Desktop/honeyproduction.csv\")"
   ]
  },
  {
   "cell_type": "code",
   "execution_count": 67,
   "id": "381ab19f",
   "metadata": {},
   "outputs": [
    {
     "data": {
      "text/html": [
       "<div>\n",
       "<style scoped>\n",
       "    .dataframe tbody tr th:only-of-type {\n",
       "        vertical-align: middle;\n",
       "    }\n",
       "\n",
       "    .dataframe tbody tr th {\n",
       "        vertical-align: top;\n",
       "    }\n",
       "\n",
       "    .dataframe thead th {\n",
       "        text-align: right;\n",
       "    }\n",
       "</style>\n",
       "<table border=\"1\" class=\"dataframe\">\n",
       "  <thead>\n",
       "    <tr style=\"text-align: right;\">\n",
       "      <th></th>\n",
       "      <th>state</th>\n",
       "      <th>numcol</th>\n",
       "      <th>yieldpercol</th>\n",
       "      <th>totalprod</th>\n",
       "      <th>stocks</th>\n",
       "      <th>priceperlb</th>\n",
       "      <th>prodvalue</th>\n",
       "      <th>year</th>\n",
       "    </tr>\n",
       "  </thead>\n",
       "  <tbody>\n",
       "    <tr>\n",
       "      <th>0</th>\n",
       "      <td>AL</td>\n",
       "      <td>16000.0</td>\n",
       "      <td>71</td>\n",
       "      <td>1136000.0</td>\n",
       "      <td>159000.0</td>\n",
       "      <td>0.72</td>\n",
       "      <td>818000.0</td>\n",
       "      <td>1998</td>\n",
       "    </tr>\n",
       "    <tr>\n",
       "      <th>1</th>\n",
       "      <td>AZ</td>\n",
       "      <td>55000.0</td>\n",
       "      <td>60</td>\n",
       "      <td>3300000.0</td>\n",
       "      <td>1485000.0</td>\n",
       "      <td>0.64</td>\n",
       "      <td>2112000.0</td>\n",
       "      <td>1998</td>\n",
       "    </tr>\n",
       "    <tr>\n",
       "      <th>2</th>\n",
       "      <td>AR</td>\n",
       "      <td>53000.0</td>\n",
       "      <td>65</td>\n",
       "      <td>3445000.0</td>\n",
       "      <td>1688000.0</td>\n",
       "      <td>0.59</td>\n",
       "      <td>2033000.0</td>\n",
       "      <td>1998</td>\n",
       "    </tr>\n",
       "    <tr>\n",
       "      <th>3</th>\n",
       "      <td>CA</td>\n",
       "      <td>450000.0</td>\n",
       "      <td>83</td>\n",
       "      <td>37350000.0</td>\n",
       "      <td>12326000.0</td>\n",
       "      <td>0.62</td>\n",
       "      <td>23157000.0</td>\n",
       "      <td>1998</td>\n",
       "    </tr>\n",
       "    <tr>\n",
       "      <th>4</th>\n",
       "      <td>CO</td>\n",
       "      <td>27000.0</td>\n",
       "      <td>72</td>\n",
       "      <td>1944000.0</td>\n",
       "      <td>1594000.0</td>\n",
       "      <td>0.70</td>\n",
       "      <td>1361000.0</td>\n",
       "      <td>1998</td>\n",
       "    </tr>\n",
       "  </tbody>\n",
       "</table>\n",
       "</div>"
      ],
      "text/plain": [
       "  state    numcol  yieldpercol   totalprod      stocks  priceperlb  \\\n",
       "0    AL   16000.0           71   1136000.0    159000.0        0.72   \n",
       "1    AZ   55000.0           60   3300000.0   1485000.0        0.64   \n",
       "2    AR   53000.0           65   3445000.0   1688000.0        0.59   \n",
       "3    CA  450000.0           83  37350000.0  12326000.0        0.62   \n",
       "4    CO   27000.0           72   1944000.0   1594000.0        0.70   \n",
       "\n",
       "    prodvalue  year  \n",
       "0    818000.0  1998  \n",
       "1   2112000.0  1998  \n",
       "2   2033000.0  1998  \n",
       "3  23157000.0  1998  \n",
       "4   1361000.0  1998  "
      ]
     },
     "execution_count": 67,
     "metadata": {},
     "output_type": "execute_result"
    }
   ],
   "source": [
    "df.head(5)"
   ]
  },
  {
   "cell_type": "markdown",
   "id": "3c4427d1",
   "metadata": {},
   "source": [
    "# Calculate the total production of honey per year. "
   ]
  },
  {
   "cell_type": "code",
   "execution_count": 68,
   "id": "c65e9e40",
   "metadata": {},
   "outputs": [
    {
     "name": "stdout",
     "output_type": "stream",
     "text": [
      "    year     totalprod\n",
      "0   1998  5.105093e+06\n",
      "1   1999  4.706674e+06\n",
      "2   2000  5.106000e+06\n",
      "3   2001  4.221545e+06\n",
      "4   2002  3.892386e+06\n",
      "5   2003  4.122091e+06\n",
      "6   2004  4.456805e+06\n",
      "7   2005  4.243146e+06\n",
      "8   2006  3.761902e+06\n",
      "9   2007  3.600512e+06\n",
      "10  2008  3.974927e+06\n",
      "11  2009  3.626700e+06\n",
      "12  2010  4.382350e+06\n",
      "13  2011  3.680025e+06\n",
      "14  2012  3.522675e+06\n"
     ]
    }
   ],
   "source": [
    "# create a dataset with total production of honey per year, name it prod_per_year \n",
    "\n",
    "prod_per_year = df.groupby('year')['totalprod'].mean().reset_index()\n",
    "print(prod_per_year)\n"
   ]
  },
  {
   "cell_type": "code",
   "execution_count": 69,
   "id": "6439717a",
   "metadata": {},
   "outputs": [
    {
     "data": {
      "text/plain": [
       "Text(0, 0.5, 'total production')"
      ]
     },
     "execution_count": 69,
     "metadata": {},
     "output_type": "execute_result"
    },
    {
     "data": {
      "image/png": "[encoded data removed]",
      "text/plain": [
       "<Figure size 432x288 with 1 Axes>"
      ]
     },
     "metadata": {
      "needs_background": "light"
     },
     "output_type": "display_data"
    }
   ],
   "source": [
    "# X is the column of years in this prod_per_year DataFrame.\n",
    "x = prod_per_year['year']\n",
    "\n",
    "# Reshape x it to get it into the right format\n",
    "x = x.values.reshape(-1,1)\n",
    "\n",
    "#y is the totalprod column in the prod_per_year dataset.\n",
    "y = prod_per_year['totalprod']\n",
    "\n",
    "\n",
    "#plot y vs X as a scatterplot.\n",
    "plt.scatter(x,y)\n",
    "plt.title('Annual Honey Production')\n",
    "plt.xlabel('year')\n",
    "plt.ylabel('total production')\n"
   ]
  },
  {
   "cell_type": "markdown",
   "id": "3eac84ba",
   "metadata": {},
   "source": [
    "## Create and Fit a Linear Regression Model"
   ]
  },
  {
   "cell_type": "code",
   "execution_count": 70,
   "id": "97e1fe7d",
   "metadata": {},
   "outputs": [
    {
     "name": "stdout",
     "output_type": "stream",
     "text": [
      "[-88303.18915238]\n",
      "181208083.1073298\n"
     ]
    }
   ],
   "source": [
    "regr = LinearRegression()\n",
    "regr.fit(x,y)\n",
    "print(regr.coef_)\n",
    "print(regr.intercept_)\n"
   ]
  },
  {
   "cell_type": "code",
   "execution_count": 71,
   "id": "6dffdb84",
   "metadata": {},
   "outputs": [
    {
     "data": {
      "image/png": "[encoded data removed]",
      "text/plain": [
       "<Figure size 432x288 with 1 Axes>"
      ]
     },
     "metadata": {
      "needs_background": "light"
     },
     "output_type": "display_data"
    }
   ],
   "source": [
    "#Create a list called y_predict that is the predictions your regr model would make on the X data.\n",
    "y_predict = regr.predict(x)\n",
    "plt.plot(x, y_predict, 'x')\n",
    "plt.show()"
   ]
  },
  {
   "cell_type": "markdown",
   "id": "63437713",
   "metadata": {},
   "source": [
    "## Plot actual points and predicted points on the same graph "
   ]
  },
  {
   "cell_type": "code",
   "execution_count": 72,
   "id": "16a0122c",
   "metadata": {},
   "outputs": [
    {
     "data": {
      "image/png": "[encoded data removed]",
      "text/plain": [
       "<Figure size 432x288 with 1 Axes>"
      ]
     },
     "metadata": {
      "needs_background": "light"
     },
     "output_type": "display_data"
    }
   ],
   "source": [
    "#plot actual points and predicted points on the same graph \n",
    "\n",
    "plt.scatter(x,y)\n",
    "plt.title('Annual Honey Production')\n",
    "plt.xlabel('year')\n",
    "plt.ylabel('total production')\n",
    "\n",
    "plt.plot(x, y_predict, 'x')\n",
    "plt.show()\n"
   ]
  },
  {
   "cell_type": "markdown",
   "id": "e4f90216",
   "metadata": {},
   "source": [
    "## Predict what the year 2050 may look like in terms of honey production.\n",
    "\n"
   ]
  },
  {
   "cell_type": "code",
   "execution_count": 77,
   "id": "08b7c606",
   "metadata": {},
   "outputs": [
    {
     "data": {
      "image/png": "[encoded data removed]",
      "text/plain": [
       "<Figure size 432x288 with 1 Axes>"
      ]
     },
     "metadata": {
      "needs_background": "light"
     },
     "output_type": "display_data"
    }
   ],
   "source": [
    "#let’s create a NumPy array called X_future that is the range from 2013 to 2050.\n",
    "X_future = np.array(range(2014, 2050))\n",
    "\n",
    "#reshape array for scikit-learn.\n",
    "X_future = X_future.reshape(-1,1)\n",
    "\n",
    "# create list called future_predict that contains y-values that the regr model would predict for the values of X_future.\n",
    "future_predict = regr.predict(X_future)\n",
    "\n",
    "#Plot Prediction for Honey Production in the year 2050 \n",
    "\n",
    "#Plot future_predict vs X_future\n",
    "\n",
    "\n",
    "\n",
    "\n",
    "plt.scatter(x,y)\n",
    "plt.title('Annual Honey Production')\n",
    "plt.xlabel('year')\n",
    "plt.ylabel('total production')\n",
    "\n",
    "\n",
    "plt.plot(x, y_predict, 'x')\n",
    "\n",
    "\n",
    "plt.plot(X_future, future_predict, '+')\n",
    "plt.show()\n",
    "\n"
   ]
  },
  {
   "cell_type": "markdown",
   "id": "d8ddf55a",
   "metadata": {},
   "source": [
    "## Total Honey Production is predicted to be less than 1,000,000 lbs by 2050"
   ]
  }
 ],
 "metadata": {
  "kernelspec": {
   "display_name": "Python 3",
   "language": "python",
   "name": "python3"
  },
  "language_info": {
   "codemirror_mode": {
    "name": "ipython",
    "version": 3
   },
   "file_extension": ".py",
   "mimetype": "text/x-python",
   "name": "python",
   "nbconvert_exporter": "python",
   "pygments_lexer": "ipython3",
   "version": "3.8.8"
  }
 },
 "nbformat": 4,
 "nbformat_minor": 5
}
